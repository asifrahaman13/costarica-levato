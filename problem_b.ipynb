{
 "cells": [
  {
   "cell_type": "markdown",
   "metadata": {},
   "source": [
    "## Problem 2"
   ]
  },
  {
   "cell_type": "code",
   "execution_count": 1,
   "metadata": {},
   "outputs": [],
   "source": [
    "from tabulate import tabulate\n",
    "\n",
    "\n",
    "# Pretty print class to print data from data frame in a tabular format\n",
    "class PrettyPrint:\n",
    "\n",
    "    @staticmethod\n",
    "    def print_dataframe(data: dict, title: str):\n",
    "        print(f\"{title}\")\n",
    "        print(tabulate(data, headers=\"keys\", tablefmt=\"grid\"))"
   ]
  },
  {
   "cell_type": "code",
   "execution_count": 2,
   "metadata": {},
   "outputs": [],
   "source": [
    "import psycopg2\n",
    "import pandas as pd\n",
    "import os\n",
    "from dotenv import load_dotenv\n",
    "\n",
    "# Load the environment variables from the .env file\n",
    "load_dotenv()\n",
    "\n",
    "dbname = os.getenv(\"POSTGRES_DB\")\n",
    "user = os.getenv(\"POSTGRES_USER\")\n",
    "password = os.getenv(\"POSTGRES_PASSWORD\")\n",
    "host = os.getenv(\"POSTGRES_HOST\")\n",
    "port = os.getenv(\"POSTGRES_PORT\")"
   ]
  },
  {
   "cell_type": "code",
   "execution_count": 3,
   "metadata": {},
   "outputs": [],
   "source": [
    "from enum import Enum\n",
    "\n",
    "# All the operators that can be used in the SQL queries\n",
    "class SQLOperator(Enum):\n",
    "    INCLUDES = \"includes\"\n",
    "    GREATER_THAN_EQUAL_TO = \"greater-than-equal-to\"\n",
    "    LESS_THAN_EQUAL_TO = \"less-than-equal-to\""
   ]
  },
  {
   "cell_type": "code",
   "execution_count": 4,
   "metadata": {},
   "outputs": [],
   "source": [
    "class SQLFilter:\n",
    "    def __init__(self, connection):\n",
    "        self.connection = connection\n",
    "\n",
    "    def generate_sql_condition(self, condition):\n",
    "        col_name, operator, value = condition\n",
    "        table_alias, column_name = col_name.split(\".\")\n",
    "        \n",
    "        # Generate the SQL condition based on the operator\n",
    "        if operator == SQLOperator.INCLUDES.value:\n",
    "            value = tuple(value) if len(value) > 1 else f\"('{value[0]}')\"\n",
    "            return f\"{table_alias}.{column_name} IN {value}\", []\n",
    "        elif operator == SQLOperator.GREATER_THAN_EQUAL_TO.value:\n",
    "            return f\"{table_alias}.{column_name} >= %s\", [value]\n",
    "        elif operator == SQLOperator.LESS_THAN_EQUAL_TO.value:\n",
    "            return f\"{table_alias}.{column_name} <= %s\", [value]\n",
    "        else:\n",
    "            raise ValueError(f\"Unsupported condition: {operator}\")\n",
    "\n",
    "    def filter_data(self, filter_conditions, output_columns):\n",
    "        cursor = self.connection.cursor()\n",
    "\n",
    "        # Generate SQL WHERE conditions from the filter conditions\n",
    "        where_conditions = []\n",
    "        parameters = [] \n",
    "\n",
    "        # Generate the SQL conditions for each filter condition\n",
    "        for condition in filter_conditions:\n",
    "            condition_str, condition_params = self.generate_sql_condition(condition)\n",
    "            where_conditions.append(condition_str)\n",
    "            parameters.extend(condition_params)\n",
    "\n",
    "        where_clause = \" AND \".join(where_conditions)\n",
    "\n",
    "        # Generate the SELECT clause with table aliases\n",
    "        select_clause = \", \".join(\n",
    "            (\n",
    "                f\"ea.{col}\"\n",
    "                if col in [\"event_city\", \"event_name\", \"event_country\"]\n",
    "                else f\"ca.{col}\"\n",
    "            )\n",
    "            for col in output_columns\n",
    "        )\n",
    "\n",
    "        # Define the SQL query\n",
    "        query = f\"\"\"\n",
    "            SELECT {select_clause}\n",
    "            FROM event_attributes ea\n",
    "            JOIN company_attributes ca ON ea.event_url = ca.event_url\n",
    "            WHERE {where_clause};\n",
    "        \"\"\"\n",
    "\n",
    "        # Execute the query with parameters\n",
    "        cursor.execute(query, parameters)\n",
    "        result = cursor.fetchall()\n",
    "\n",
    "        # Convert the result to a pandas DataFrame\n",
    "        result_df = pd.DataFrame(result, columns=output_columns)\n",
    "\n",
    "        return result_df"
   ]
  },
  {
   "cell_type": "code",
   "execution_count": 5,
   "metadata": {},
   "outputs": [],
   "source": [
    "# Establishing the connection\n",
    "connection = psycopg2.connect(\n",
    "    dbname=dbname,\n",
    "    user=user,\n",
    "    password=password,\n",
    "    host=host,\n",
    "    port=port,\n",
    ")\n",
    "\n",
    "# Instantiate the SQLFilter class\n",
    "sql_filter = SQLFilter(connection)\n",
    "\n",
    "# Define filter arguments and output columns\n",
    "filter_arguments = [\n",
    "    [\"ea.event_country\", \"includes\", [\"Singapore\", \"USA\"]],\n",
    "    [\"ca.company_industry\", \"includes\", [\"Software\", \"IT\", \"Healthcare\", \"Oil & Gas\"]],\n",
    "]\n",
    "output_columns = [\n",
    "    \"event_city\",\n",
    "    \"event_name\",\n",
    "    \"event_country\",\n",
    "    \"company_industry\",\n",
    "    \"company_name\",\n",
    "    \"company_url\",\n",
    "]"
   ]
  },
  {
   "cell_type": "code",
   "execution_count": 6,
   "metadata": {},
   "outputs": [
    {
     "name": "stdout",
     "output_type": "stream",
     "text": [
      "Filtered Result\n",
      "+----+---------------+-----------------+-----------------+--------------------+----------------+---------------------+\n",
      "|    | event_city    | event_name      | event_country   | company_industry   | company_name   | company_url         |\n",
      "+====+===============+=================+=================+====================+================+=====================+\n",
      "|  0 | Singapore     | Tech Conference | Singapore       | Software           | TechCorp       | http://techcorp.com |\n",
      "+----+---------------+-----------------+-----------------+--------------------+----------------+---------------------+\n",
      "|  1 | Singapore     | AI Summit       | Singapore       | IT                 | Innovate Inc   | http://innovate.com |\n",
      "+----+---------------+-----------------+-----------------+--------------------+----------------+---------------------+\n",
      "|  2 | San Francisco | Startup Week    | USA             | Software           | StartUp Co     | http://startup.com  |\n",
      "+----+---------------+-----------------+-----------------+--------------------+----------------+---------------------+\n"
     ]
    }
   ],
   "source": [
    "# Apply the filter and get the results\n",
    "result_df = sql_filter.filter_data(filter_arguments, output_columns)\n",
    "PrettyPrint.print_dataframe(result_df, \"Filtered Result\")"
   ]
  },
  {
   "cell_type": "code",
   "execution_count": null,
   "metadata": {},
   "outputs": [],
   "source": []
  }
 ],
 "metadata": {
  "kernelspec": {
   "display_name": ".venv",
   "language": "python",
   "name": "python3"
  },
  "language_info": {
   "codemirror_mode": {
    "name": "ipython",
    "version": 3
   },
   "file_extension": ".py",
   "mimetype": "text/x-python",
   "name": "python",
   "nbconvert_exporter": "python",
   "pygments_lexer": "ipython3",
   "version": "3.12.3"
  }
 },
 "nbformat": 4,
 "nbformat_minor": 2
}
