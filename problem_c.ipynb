{
 "cells": [
  {
   "cell_type": "markdown",
   "metadata": {},
   "source": [
    "## Problem 3"
   ]
  },
  {
   "cell_type": "markdown",
   "metadata": {},
   "source": [
    "1. Retry mechanism: Ensuring more robustness to the system. We can have a retry mechanism upo n times in case there is any error in generating the tables from SQL query. The function can be algorithmically programmed in such a way that current iteration acutally have the error caused from the previous iteration.\n",
    "2. A validator agent can be created which would be specially trained to validate the generated SQL query (returns either valid as True or False).\n",
    "3. Feedback mechanism: We can retrain the system each time the LLM gives correct result. This can act as a reinforcement learning to improve the accuracy of the system. \n",
    "4. Usage of SQL Linter: A good way of validating the generated the SQL data is through the usage of SQL linter eg: https://github.com/sqlfluff/sqlfluff.git. This can help to reduce any linting issue or any form of error in the SQL query. It can handle the syntax error.\n",
    "5. Storing the wrong results in a separate db to later work on the test cases would be great help. (Needs a good amount of manual tasks.)"
   ]
  },
  {
   "cell_type": "code",
   "execution_count": null,
   "metadata": {
    "vscode": {
     "languageId": "plaintext"
    }
   },
   "outputs": [],
   "source": []
  }
 ],
 "metadata": {
  "language_info": {
   "name": "python"
  }
 },
 "nbformat": 4,
 "nbformat_minor": 2
}
